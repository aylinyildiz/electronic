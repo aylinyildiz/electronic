{
  "nbformat": 4,
  "nbformat_minor": 0,
  "metadata": {
    "colab": {
      "name": "VoltageDividerAC.ipynb",
      "provenance": [],
      "collapsed_sections": [],
      "authorship_tag": "ABX9TyP4lro8vlU01I08JSNmIjex",
      "include_colab_link": true
    },
    "kernelspec": {
      "name": "python3",
      "display_name": "Python 3"
    },
    "language_info": {
      "name": "python"
    }
  },
  "cells": [
    {
      "cell_type": "markdown",
      "metadata": {
        "id": "view-in-github",
        "colab_type": "text"
      },
      "source": [
        "<a href=\"https://colab.research.google.com/github/aylinyildiz/electronic/blob/main/VoltageDividerAC.ipynb\" target=\"_parent\"><img src=\"https://colab.research.google.com/assets/colab-badge.svg\" alt=\"Open In Colab\"/></a>"
      ]
    },
    {
      "cell_type": "code",
      "metadata": {
        "id": "iH1ERZU9H8Zq"
      },
      "source": [
        "VBE=0.7\n",
        "k=1000\n",
        "m=pow(10,-3)"
      ],
      "execution_count": null,
      "outputs": []
    },
    {
      "cell_type": "code",
      "metadata": {
        "id": "g-g4QZJrIVvk"
      },
      "source": [
        "VCC=10\n",
        "RC=5*k\n",
        "RE=500+500 #RE1+RE2\n",
        "R2=10*k\n",
        "R1=50*k \n",
        "B=150"
      ],
      "execution_count": null,
      "outputs": []
    },
    {
      "cell_type": "markdown",
      "metadata": {
        "id": "edv5rivXIxlR"
      },
      "source": [
        "# Yaklaşık Analiz vs Tam Analiz"
      ]
    },
    {
      "cell_type": "code",
      "metadata": {
        "colab": {
          "base_uri": "https://localhost:8080/"
        },
        "id": "CL6fGa6gI0UB",
        "outputId": "9dde0878-9fd6-403a-bc32-7d0923f5f031"
      },
      "source": [
        "if((B*RE) >= (10*R2)):\n",
        "  print(\"Yaklaşık analiz yapılmalı\")\n",
        "else:\n",
        "  print(\"tam analiz yapılmalı\")"
      ],
      "execution_count": null,
      "outputs": [
        {
          "output_type": "stream",
          "text": [
            "Yaklaşık analiz yapılmalı\n"
          ],
          "name": "stdout"
        }
      ]
    },
    {
      "cell_type": "markdown",
      "metadata": {
        "id": "yO57wYJAJhci"
      },
      "source": [
        "# Yaklaşık Analiz"
      ]
    },
    {
      "cell_type": "code",
      "metadata": {
        "colab": {
          "base_uri": "https://localhost:8080/"
        },
        "id": "wxJ9DmVsI_iw",
        "outputId": "2329c3fa-dff7-4522-c5f9-a792df307409"
      },
      "source": [
        "VB=VCC*R2/(R1+R2)\n",
        "print(\"VB: \",VB)\n",
        "VE=VB-VBE\n",
        "print(\"VE: \",VE)\n",
        "IE=VE/RE\n",
        "print(\"IE: \",IE)\n",
        "IC=IE\n",
        "print(\"IC: \",IC)\n",
        "IB=IC/B\n",
        "print(\"IB: \",IB)\n",
        "VCE=VCC-IC*RC-IE*RE\n",
        "print(\"VCE: \",VCE)"
      ],
      "execution_count": null,
      "outputs": [
        {
          "output_type": "stream",
          "text": [
            "VB:  1.6666666666666667\n",
            "VE:  0.9666666666666668\n",
            "IE:  0.0009666666666666668\n",
            "IC:  0.0009666666666666668\n",
            "IB:  6.444444444444445e-06\n",
            "VCE:  4.199999999999999\n"
          ],
          "name": "stdout"
        }
      ]
    },
    {
      "cell_type": "markdown",
      "metadata": {
        "id": "SKBqn0B1NyLt"
      },
      "source": [
        "# Tam Analiz"
      ]
    },
    {
      "cell_type": "code",
      "metadata": {
        "colab": {
          "base_uri": "https://localhost:8080/"
        },
        "id": "ddpqQ9K5N030",
        "outputId": "0c343289-9cd2-4a88-c536-5680965d1a8e"
      },
      "source": [
        "VTH=VCC*R2/(R1+R2)\n",
        "print(\"VTH=\",VTH)\n",
        "\n",
        "RTH=R1*R2/(R1+R2)\n",
        "print(\"RTH=\",RTH)\n",
        "print(\"RTH=\",RTH/1000,\"k\")\n",
        "\n",
        "IB=(VTH-VBE)/(RTH+(B+1)*RE)\n",
        "print(\"IB=\",IB)\n",
        "print(\"IB=\", IB*1000000 ,\"uA\") #mikroamper\n",
        "\n",
        "IC=B*IB\n",
        "print(\"IC=\",IC)\n",
        "print(\"IC=\", IC*1000, \"mA\" )\n",
        "\n",
        "IE=IC+IB\n",
        "print(\"IE=\",IE)\n",
        "print(\"IE=\", IE*1000, \"mA\")\n",
        "\n",
        "VE=IE*RE\n",
        "print(\"VE=\",VE)\n",
        "\n",
        "VB=VE+0.7\n",
        "print(\"VB=\",VB)\n",
        "\n",
        "VC=VCC-IC*RC\n",
        "print(\"VC=\",VC)\n",
        "\n",
        "VCE=VC-VE\n",
        "print(\"VCE=\",VCE)\n",
        "\n",
        "PT=VCE*IC\n",
        "print(\"PT=\",PT)\n",
        "print(\"PT=\", PT*1000,\"mW\")"
      ],
      "execution_count": null,
      "outputs": [
        {
          "output_type": "stream",
          "text": [
            "VTH= 1.6666666666666667\n",
            "RTH= 8333.333333333334\n",
            "RTH= 8.333333333333334 k\n",
            "IB= 1.1530815109343938e-05\n",
            "IB= 11.530815109343939 uA\n",
            "IC= 0.0017296222664015908\n",
            "IC= 1.7296222664015908 mA\n",
            "IE= 0.0017411530815109348\n",
            "IE= 1.7411530815109348 mA\n",
            "VE= 0.8705765407554674\n",
            "VB= 1.5705765407554675\n",
            "VC= 1.3518886679920463\n",
            "VCE= 0.4813121272365789\n",
            "PT= 0.0008324881723575024\n",
            "PT= 0.8324881723575025 mW\n"
          ],
          "name": "stdout"
        }
      ]
    },
    {
      "cell_type": "markdown",
      "metadata": {
        "id": "6ERWSGhEJpwh"
      },
      "source": [
        "# AC Analiz"
      ]
    },
    {
      "cell_type": "code",
      "metadata": {
        "colab": {
          "base_uri": "https://localhost:8080/"
        },
        "id": "6UqJv9NBJrO5",
        "outputId": "65fb2f58-7c02-42a9-cabe-b85feef6205b"
      },
      "source": [
        "#AC Parametreler\n",
        "VT=25*m\n",
        "Bac=175\n",
        "RS=600\n",
        "RL=50*k\n",
        "\n",
        "re=VT/IE\n",
        "Bre=Bac*re\n",
        "vin=10*m\n",
        "\n",
        "#RE2 By-pass edildi, RL olduğu için RC=RC//RL\n",
        "RE=500\n",
        "RC_=RC*RL/(RC+RL)\n",
        "\n",
        "Ra = R1*R2/(R1+R2)\n",
        "Zb = Bac*(re+RE)\n",
        "Rin = Ra*Zb/(Ra+Zb)\n",
        "\n",
        "Rinx = RS+Rin\n",
        "\n",
        "vb= vin*(Rin/Rinx)\n",
        "vb=vin*Rin/(Rin+RS)\n",
        "vi=vin-vin*RS/Rinx #vb=vi 2 şekilde hesaplanabiliyor\n",
        "ib=vb/Zb\n",
        "ic=Bac*ib\n",
        "vo=-ic*RC_\n",
        "\n",
        "iin=vin/Rinx\n",
        "\n",
        "Av1 = -Bac*RC_*(Rinx-RS)/(Zb*Rinx)\n",
        "Av2 = -RC_*Rin/((Rin+RS)*(re+RE))\n",
        "AvTr = vo/vb \n",
        "\n",
        "print(\"Ra=\", f'{Ra:,}')\n",
        "print(\"Zb=\", f'{Zb:,}')\n",
        "print(\"Rin=\", f'{Rin:,}')\n",
        "print(\"Rinx=\", f'{Rinx:,}')\n",
        "print(\"vb=\", f'{vb:,}')\n",
        "print(\"vi=\", f'{vi:,}')\n",
        "print(\"ib=\", f'{ib:,}')\n",
        "print(\"ic=\", f'{ic:,}')\n",
        "print(\"vo=\", f'{vo:,}')\n",
        "print(\"iin=\", f'{iin:,}')\n",
        "print(\"Av1=\", f'{Av1:,}')\n",
        "print(\"Av2=\", f'{Av2:,}')\n",
        "print(\"AvTr=\", f'{AvTr:,}')\n",
        "\n"
      ],
      "execution_count": null,
      "outputs": [
        {
          "output_type": "stream",
          "text": [
            "Ra= 8,333.333333333334\n",
            "Zb= 92,025.8620689655\n",
            "Rin= 7,641.37437365784\n",
            "Rinx= 8,241.37437365784\n",
            "vb= 0.009271966091095438\n",
            "vi= 0.009271966091095438\n",
            "ib= 1.0075391724281694e-07\n",
            "ic= 1.7631935517492965e-05\n",
            "vo= -0.08014516144314983\n",
            "iin= 1.2133898481742693e-06\n",
            "Av1= -8.014516144314985\n",
            "Av2= -8.014516144314983\n",
            "AvTr= -8.643815201192249\n"
          ],
          "name": "stdout"
        }
      ]
    }
  ]
}